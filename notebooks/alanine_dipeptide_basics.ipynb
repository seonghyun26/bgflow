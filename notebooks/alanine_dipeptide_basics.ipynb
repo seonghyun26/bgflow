{
 "cells": [
  {
   "cell_type": "markdown",
   "id": "disciplinary-trade",
   "metadata": {},
   "source": [
    "# Training a Boltzmann Generator for Alanine Dipeptide\n",
    "\n",
    "This notebook introduces basic concepts behind `bgflow`. \n",
    "\n",
    "It shows how to build an train a Boltzmann generator for a small peptide. The most important aspects it will cover are\n",
    "\n",
    "- retrieval of molecular training data\n",
    "- defining a internal coordinate transform\n",
    "- defining normalizing flow classes\n",
    "- combining different normalizing flows\n",
    "- training a Boltzmann generator via NLL and KLL\n",
    "\n",
    "The main purpose of this tutorial is to introduce the implementation. The network design is optimized for educational purposes rather than good performance. In the conlusions, we will discuss some aspects of the generator that are not ideal and outline improvements.\n",
    "\n",
    "## Some Preliminaries\n",
    "\n",
    "We instruct jupyter to reload any imports automatically and define the device and datatype, on which we want to perform the computations."
   ]
  },
  {
   "cell_type": "code",
   "execution_count": 2,
   "id": "revolutionary-counter",
   "metadata": {},
   "outputs": [],
   "source": [
    "%load_ext autoreload"
   ]
  },
  {
   "cell_type": "code",
   "execution_count": 3,
   "id": "exact-fault",
   "metadata": {},
   "outputs": [],
   "source": [
    "%autoreload 2"
   ]
  },
  {
   "cell_type": "code",
   "execution_count": 4,
   "id": "continued-transformation",
   "metadata": {},
   "outputs": [],
   "source": [
    "import torch\n",
    "\n",
    "device = \"cuda:0\" if torch.cuda.is_available() else \"cpu\"\n",
    "dtype = torch.float32\n",
    "\n",
    "# a context tensor to send data to the right device and dtype via '.to(ctx)'\n",
    "ctx = torch.zeros([], device=device, dtype=dtype)\n",
    "\n",
    "# a brief check if this module is the main executable (or imported)\n",
    "main = (__name__ == \"__main__\")"
   ]
  },
  {
   "cell_type": "markdown",
   "id": "fabulous-roulette",
   "metadata": {},
   "source": [
    "\n",
    "\n",
    "## Load the Data and the Molecular System\n",
    "\n",
    "Molecular trajectories and their corresponding potential energy functions are available from the `bgmol` repository."
   ]
  },
  {
   "cell_type": "code",
   "execution_count": 5,
   "id": "pending-coating",
   "metadata": {},
   "outputs": [
    {
     "name": "stderr",
     "output_type": "stream",
     "text": [
      "Warning: importing 'simtk.openmm' is deprecated.  Import 'openmm' instead.\n"
     ]
    },
    {
     "name": "stdout",
     "output_type": "stream",
     "text": [
      "Using downloaded and verified file: /tmp/alanine-dipeptide-nowater.pdb\n"
     ]
    }
   ],
   "source": [
    "import os\n",
    "from bgmol.datasets import Ala2TSF300, Ala2TSF1000\n",
    "\n",
    "# Load data at 300K\n",
    "is_data_here = os.path.isfile(\"Ala2TSF300.npy\")\n",
    "dataset = Ala2TSF300(download=(not is_data_here), read=True)\n",
    "\n",
    "# Load data at 1000K\n",
    "# is_data_here = os.path.isfile(\"Ala2TSF1000.npy\")\n",
    "# dataset = Ala2TSF1000(download=(not is_data_here), read=True)\n",
    "\n",
    "system = dataset.system\n",
    "coordinates = dataset.coordinates\n",
    "temperature = dataset.temperature\n",
    "dim = dataset.dim"
   ]
  },
  {
   "cell_type": "markdown",
   "id": "likely-picture",
   "metadata": {},
   "source": [
    "The energy model is a `bgflow.Energy` that wraps around OpenMM. The `n_workers` argument determines the number of openmm contexts that are used for energy evaluations. In notebooks, we set `n_workers=1` to avoid hickups. In production, we can omit this argument so that `n_workers` is automatically set to the number of CPU cores."
   ]
  },
  {
   "cell_type": "code",
   "execution_count": 6,
   "id": "occasional-seller",
   "metadata": {},
   "outputs": [],
   "source": [
    "target_energy = dataset.get_energy_model(n_workers=1)"
   ]
  },
  {
   "cell_type": "markdown",
   "id": "explicit-cargo",
   "metadata": {},
   "source": [
    "### Visualize Data: Ramachandran Plot for the Backbone Angles"
   ]
  },
  {
   "cell_type": "code",
   "execution_count": 7,
   "id": "regulation-authority",
   "metadata": {},
   "outputs": [],
   "source": [
    "import numpy as np\n",
    "import mdtraj as md \n",
    "from matplotlib import pyplot as plt\n",
    "from matplotlib.colors import LogNorm\n",
    "\n",
    "def plot_phi_psi(ax, trajectory, system):\n",
    "    if not isinstance(trajectory, md.Trajectory):\n",
    "        trajectory = md.Trajectory(\n",
    "            xyz=trajectory.cpu().detach().numpy().reshape(-1, 22, 3), \n",
    "            topology=system.mdtraj_topology\n",
    "        )\n",
    "    phi, psi = system.compute_phi_psi(trajectory)\n",
    "    \n",
    "    ax.hist2d(phi, psi, 50, norm=LogNorm())\n",
    "    ax.set_xlim(-np.pi, np.pi)\n",
    "    ax.set_ylim(-np.pi, np.pi)\n",
    "    ax.set_xlabel(\"$\\phi$\")\n",
    "    _ = ax.set_ylabel(\"$\\psi$\")\n",
    "    \n",
    "    return trajectory"
   ]
  },
  {
   "cell_type": "code",
   "execution_count": 8,
   "id": "amateur-integration",
   "metadata": {},
   "outputs": [
    {
     "data": {
      "image/png": "[encoded data removed]",
      "text/plain": [
       "<Figure size 300x300 with 1 Axes>"
      ]
     },
     "metadata": {},
     "output_type": "display_data"
    }
   ],
   "source": [
    "if main:\n",
    "    fig, ax = plt.subplots(figsize=(3,3))\n",
    "    _ = plot_phi_psi(ax, dataset.trajectory, system)"
   ]
  },
  {
   "cell_type": "markdown",
   "id": "interior-halifax",
   "metadata": {},
   "source": [
    "## Split Data and Randomly Permute Samples"
   ]
  },
  {
   "cell_type": "code",
   "execution_count": 9,
   "id": "spiritual-execution",
   "metadata": {},
   "outputs": [],
   "source": [
    "n_train = len(dataset)//2\n",
    "n_test = len(dataset) - n_train\n",
    "permutation = np.random.permutation(n_train)\n",
    "\n",
    "all_data = coordinates.reshape(-1, dataset.dim)\n",
    "training_data = torch.tensor(all_data[permutation]).to(ctx)\n",
    "test_data = torch.tensor(all_data[permutation + n_train]).to(ctx)"
   ]
  },
  {
   "cell_type": "code",
   "execution_count": 10,
   "id": "95dd5ec9",
   "metadata": {},
   "outputs": [
    {
     "data": {
      "text/plain": [
       "tensor([[ 0.6218,  0.2778,  0.2715],\n",
       "        [ 0.5742,  0.2064,  0.2042],\n",
       "        [ 0.4714,  0.1811,  0.2299],\n",
       "        [ 0.6282,  0.1127,  0.1907],\n",
       "        [ 0.5874,  0.2667,  0.0635],\n",
       "        [ 0.6789,  0.2351, -0.0128],\n",
       "        [ 0.4941,  0.3585,  0.0313],\n",
       "        [ 0.4131,  0.3605,  0.0916],\n",
       "        [ 0.4901,  0.4195, -0.1069],\n",
       "        [ 0.5854,  0.4072, -0.1585],\n",
       "        [ 0.3890,  0.3486, -0.2010],\n",
       "        [ 0.3998,  0.2428, -0.1770],\n",
       "        [ 0.2839,  0.3724, -0.1851],\n",
       "        [ 0.4117,  0.3698, -0.3055],\n",
       "        [ 0.4748,  0.5767, -0.0883],\n",
       "        [ 0.3833,  0.6245, -0.0187],\n",
       "        [ 0.5661,  0.6603, -0.1541],\n",
       "        [ 0.6304,  0.6162, -0.2184],\n",
       "        [ 0.5955,  0.8015, -0.1137],\n",
       "        [ 0.5115,  0.8569, -0.1555],\n",
       "        [ 0.5876,  0.8080, -0.0052],\n",
       "        [ 0.6926,  0.8395, -0.1455]], device='cuda:0')"
      ]
     },
     "execution_count": 10,
     "metadata": {},
     "output_type": "execute_result"
    }
   ],
   "source": [
    "example = training_data[0]\n",
    "example.shape\n",
    "example.reshape(-1, 3)"
   ]
  },
  {
   "cell_type": "markdown",
   "id": "associate-battle",
   "metadata": {},
   "source": [
    "## Define the Internal Coordinate Transform\n",
    "\n",
    "Rather than generating all-Cartesian coordinates, we use a mixed internal coordinate transform.\n",
    "The five central alanine atoms will serve as a Cartesian \"anchor\", from which all other atoms are placed with respect to internal coordinates (IC) defined through a z-matrix. We have deposited a valid `z_matrix` and the corresponding `rigid_block` in the `dataset.system` from `bgmol`."
   ]
  },
  {
   "cell_type": "code",
   "execution_count": 11,
   "id": "impressed-boost",
   "metadata": {},
   "outputs": [],
   "source": [
    "import bgflow as bg"
   ]
  },
  {
   "cell_type": "code",
   "execution_count": 12,
   "id": "comic-structure",
   "metadata": {},
   "outputs": [],
   "source": [
    "# throw away 6 degrees of freedom (rotation and translation)\n",
    "dim_cartesian = len(system.rigid_block) * 3 - 6\n",
    "dim_bonds = len(system.z_matrix)\n",
    "dim_angles = dim_bonds\n",
    "dim_torsions = dim_bonds"
   ]
  },
  {
   "cell_type": "code",
   "execution_count": 13,
   "id": "marine-investor",
   "metadata": {},
   "outputs": [],
   "source": [
    "coordinate_transform = bg.MixedCoordinateTransformation(\n",
    "    data=training_data, \n",
    "    z_matrix=system.z_matrix,\n",
    "    fixed_atoms=system.rigid_block,\n",
    "    keepdims=dim_cartesian, \n",
    "    normalize_angles=True,\n",
    ").to(ctx)"
   ]
  },
  {
   "cell_type": "markdown",
   "id": "fluid-magnitude",
   "metadata": {},
   "source": [
    "For demonstration, we transform the first 3 samples from the training data set into internal coordinates as follows:"
   ]
  },
  {
   "cell_type": "code",
   "execution_count": 14,
   "id": "eligible-conviction",
   "metadata": {
    "scrolled": true
   },
   "outputs": [
    {
     "data": {
      "text/plain": [
       "(torch.Size([3, 17]),\n",
       " torch.Size([3, 17]),\n",
       " torch.Size([3, 17]),\n",
       " torch.Size([3, 9]),\n",
       " torch.Size([3, 1]))"
      ]
     },
     "execution_count": 14,
     "metadata": {},
     "output_type": "execute_result"
    }
   ],
   "source": [
    "bonds, angles, torsions, cartesian, dlogp = coordinate_transform.forward(training_data[:3])\n",
    "bonds.shape, angles.shape, torsions.shape, cartesian.shape, dlogp.shape"
   ]
  },
  {
   "cell_type": "markdown",
   "id": "incomplete-equipment",
   "metadata": {},
   "source": [
    "## Prior Distribution\n",
    "\n",
    "The next step is to define a prior distribution that we can easily sample from. The normalizing flow will be trained to transform such latent samples into molecular coordinates. Here, we just take a normal distribution, which is a rather naive choice for reasons that will be discussed in other notebooks."
   ]
  },
  {
   "cell_type": "code",
   "execution_count": 15,
   "id": "revised-democracy",
   "metadata": {},
   "outputs": [],
   "source": [
    "dim_ics = dim_bonds + dim_angles + dim_torsions + dim_cartesian\n",
    "mean = torch.zeros(dim_ics).to(ctx) \n",
    "# passing the mean explicitly to create samples on the correct device\n",
    "prior = bg.NormalDistribution(dim_ics, mean=mean)"
   ]
  },
  {
   "cell_type": "markdown",
   "id": "dental-conspiracy",
   "metadata": {},
   "source": [
    "## Normalizing Flow\n",
    "\n",
    "Next, we set up the normalizing flow by stacking together different neural networks. For now, we will do this in a rather naive way, not distinguishing between bonds, angles, and torsions. Therefore, we will first define a flow that splits the output from the prior into the different IC terms.\n",
    "\n",
    "### Split Layer"
   ]
  },
  {
   "cell_type": "code",
   "execution_count": 16,
   "id": "prepared-contrast",
   "metadata": {},
   "outputs": [],
   "source": [
    "split_into_ics_flow = bg.SplitFlow(dim_bonds, dim_angles, dim_torsions, dim_cartesian)"
   ]
  },
  {
   "cell_type": "code",
   "execution_count": 17,
   "id": "polish-spell",
   "metadata": {},
   "outputs": [
    {
     "data": {
      "text/plain": [
       "torch.Size([3, 66])"
      ]
     },
     "execution_count": 17,
     "metadata": {},
     "output_type": "execute_result"
    }
   ],
   "source": [
    "# test\n",
    "_ics = split_into_ics_flow(prior.sample(3))[:-1]\n",
    "coordinate_transform.forward(*_ics, inverse=True)[0].shape"
   ]
  },
  {
   "cell_type": "markdown",
   "id": "maritime-drawing",
   "metadata": {},
   "source": [
    "### Coupling Layers\n",
    "\n",
    "Next, we will set up so-called RealNVP coupling layers, which split the input into two channels and then learn affine transformations of channel 1 conditioned on channel 2. Here we will do the split naively between the first and second half of the degrees of freedom."
   ]
  },
  {
   "cell_type": "code",
   "execution_count": 18,
   "id": "detailed-confidentiality",
   "metadata": {},
   "outputs": [],
   "source": [
    "class RealNVP(bg.SequentialFlow):\n",
    "    \n",
    "    def __init__(self, dim, hidden):\n",
    "        self.dim = dim\n",
    "        self.hidden = hidden\n",
    "        super().__init__(self._create_layers())\n",
    "    \n",
    "    def _create_layers(self):\n",
    "        dim_channel1 =  self.dim//2\n",
    "        dim_channel2 = self.dim - dim_channel1\n",
    "        split_into_2 = bg.SplitFlow(dim_channel1, dim_channel2)\n",
    "        \n",
    "        layers = [\n",
    "            # -- split\n",
    "            split_into_2,\n",
    "            # --transform\n",
    "            self._coupling_block(dim_channel1, dim_channel2),\n",
    "            bg.SwapFlow(),\n",
    "            self._coupling_block(dim_channel2, dim_channel1),\n",
    "            # -- merge\n",
    "            bg.InverseFlow(split_into_2)\n",
    "        ]\n",
    "        return layers\n",
    "        \n",
    "    def _dense_net(self, dim1, dim2):\n",
    "        return bg.DenseNet(\n",
    "            [dim1, *self.hidden, dim2],\n",
    "            activation=torch.nn.ReLU()\n",
    "        )\n",
    "    \n",
    "    def _coupling_block(self, dim1, dim2):\n",
    "        return bg.CouplingFlow(bg.AffineTransformer(\n",
    "            shift_transformation=self._dense_net(dim1, dim2),\n",
    "            scale_transformation=self._dense_net(dim1, dim2)\n",
    "        ))\n",
    "    "
   ]
  },
  {
   "cell_type": "code",
   "execution_count": 19,
   "id": "quality-anthropology",
   "metadata": {},
   "outputs": [
    {
     "data": {
      "text/plain": [
       "torch.Size([3, 60])"
      ]
     },
     "execution_count": 19,
     "metadata": {},
     "output_type": "execute_result"
    }
   ],
   "source": [
    "RealNVP(dim_ics, hidden=[128]).to(ctx).forward(prior.sample(3))[0].shape"
   ]
  },
  {
   "cell_type": "markdown",
   "id": "essential-tackle",
   "metadata": {},
   "source": [
    "### Boltzmann Generator\n",
    "\n",
    "Finally, we define the Boltzmann generator.\n",
    "It will sample molecular conformations by \n",
    "\n",
    "1. sampling in latent space from the normal prior distribution,\n",
    "2. transforming the samples into a more complication distribution through a number of RealNVP blocks (the parameters of these blocks will be subject to optimization),\n",
    "3. splitting the output of the network into blocks that define the internal coordinates, and\n",
    "4. transforming the internal coordinates into Cartesian coordinates through the inverse IC transform."
   ]
  },
  {
   "cell_type": "code",
   "execution_count": 20,
   "id": "capital-logan",
   "metadata": {},
   "outputs": [],
   "source": [
    "n_realnvp_blocks = 5\n",
    "layers = []\n",
    "\n",
    "for i in range(n_realnvp_blocks):\n",
    "    layers.append(RealNVP(dim_ics, hidden=[128, 128, 128]))\n",
    "layers.append(split_into_ics_flow)\n",
    "layers.append(bg.InverseFlow(coordinate_transform))\n",
    "\n",
    "flow = bg.SequentialFlow(layers).to(ctx)"
   ]
  },
  {
   "cell_type": "code",
   "execution_count": 21,
   "id": "touched-cloud",
   "metadata": {},
   "outputs": [
    {
     "data": {
      "text/plain": [
       "torch.Size([3, 66])"
      ]
     },
     "execution_count": 21,
     "metadata": {},
     "output_type": "execute_result"
    }
   ],
   "source": [
    "# test\n",
    "flow.forward(prior.sample(3))[0].shape"
   ]
  },
  {
   "cell_type": "code",
   "execution_count": 22,
   "id": "careful-location",
   "metadata": {},
   "outputs": [
    {
     "data": {
      "text/plain": [
       "('#Parameters:', 817250)"
      ]
     },
     "execution_count": 22,
     "metadata": {},
     "output_type": "execute_result"
    }
   ],
   "source": [
    "# print number of trainable parameters\n",
    "\"#Parameters:\", np.sum([np.prod(p.size()) for p in flow.parameters()])"
   ]
  },
  {
   "cell_type": "code",
   "execution_count": 23,
   "id": "documentary-demand",
   "metadata": {},
   "outputs": [],
   "source": [
    "generator = bg.BoltzmannGenerator(\n",
    "    flow=flow,\n",
    "    prior=prior,\n",
    "    target=target_energy\n",
    ")"
   ]
  },
  {
   "cell_type": "markdown",
   "id": "regulated-chapel",
   "metadata": {},
   "source": [
    "## Train\n",
    "\n",
    "Boltzmann generators can be trained in two ways:\n",
    "1. by matching the density of samples from the training data via the negative log likelihood (NLL), and\n",
    "2. by matching the target density via the backward Kullback-Leibler loss (KLL).\n",
    "\n",
    "NLL-based training is faster, as it does not require the computation of molecular target energies. Therefore, we will first train the generator solely by density estimation.\n",
    "\n",
    "### NLL Training"
   ]
  },
  {
   "cell_type": "code",
   "execution_count": 24,
   "id": "private-speed",
   "metadata": {},
   "outputs": [],
   "source": [
    "nll_optimizer = torch.optim.Adam(generator.parameters(), lr=1e-3)\n",
    "nll_trainer = bg.KLTrainer(\n",
    "    generator, \n",
    "    optim=nll_optimizer,\n",
    "    train_energy=False\n",
    ")"
   ]
  },
  {
   "cell_type": "code",
   "execution_count": 25,
   "id": "grand-journal",
   "metadata": {
    "scrolled": true
   },
   "outputs": [
    {
     "name": "stdout",
     "output_type": "stream",
     "text": [
      "1\tNLL: -7.0593\t\n",
      "1001\tNLL: -174.8073\t\n",
      "2001\tNLL: -193.3015\t\n",
      "3001\tNLL: -215.1701\t\n",
      "4001\tNLL: -213.8927\t\n",
      "5001\tNLL: -222.2368\t\n",
      "6001\tNLL: -223.6777\t\n",
      "7001\tNLL: -218.7667\t\n",
      "8001\tNLL: -227.3912\t\n",
      "9001\tNLL: -231.8041\t\n",
      "10001\tNLL: -231.2101\t\n",
      "11001\tNLL: -230.7379\t\n",
      "12001\tNLL: -227.4733\t\n",
      "13001\tNLL: -237.5045\t\n",
      "14001\tNLL: -238.1683\t\n",
      "15001\tNLL: -215.0426\t\n",
      "16001\tNLL: -239.9178\t\n",
      "17001\tNLL: -228.2190\t\n",
      "18001\tNLL: -238.9810\t\n",
      "19001\tNLL: -233.3817\t\n"
     ]
    }
   ],
   "source": [
    "if main:\n",
    "    nll_trainer.train(\n",
    "        n_iter=20000, \n",
    "        data=training_data,\n",
    "        batchsize=128,\n",
    "        n_print=1000, \n",
    "        w_energy=0.0\n",
    "    )"
   ]
  },
  {
   "cell_type": "markdown",
   "id": "cloudy-priority",
   "metadata": {},
   "source": [
    "To see what the generator has learned so far, let's first create a bunch of samples and compare their backbone angles with the molecular dynamics data. Let's also plot their energies."
   ]
  },
  {
   "cell_type": "code",
   "execution_count": 26,
   "id": "similar-pharmacology",
   "metadata": {},
   "outputs": [],
   "source": [
    "def plot_energies(ax, samples, target_energy, test_data):\n",
    "    sample_energies = target_energy.energy(samples).cpu().detach().numpy()\n",
    "    md_energies = target_energy.energy(test_data[:len(samples)]).cpu().detach().numpy()\n",
    "    cut = max(np.percentile(sample_energies, 80), 20)\n",
    "    \n",
    "    ax.set_xlabel(\"Energy   [$k_B T$]\")\n",
    "    # y-axis on the right\n",
    "    ax2 = plt.twinx(ax)\n",
    "    ax.get_yaxis().set_visible(False)\n",
    "    \n",
    "    ax2.hist(sample_energies, range=(-50, cut), bins=40, density=False, label=\"BG\")\n",
    "    ax2.hist(md_energies, range=(-50, cut), bins=40, density=False, label=\"MD\")\n",
    "    ax2.set_ylabel(f\"Count   [#Samples / {len(samples)}]\")\n",
    "    ax2.legend()"
   ]
  },
  {
   "cell_type": "code",
   "execution_count": 27,
   "id": "annual-judge",
   "metadata": {},
   "outputs": [
    {
     "data": {
      "image/png": "[encoded data removed]",
      "text/plain": [
       "<Figure size 600x300 with 3 Axes>"
      ]
     },
     "metadata": {},
     "output_type": "display_data"
    }
   ],
   "source": [
    "if main:\n",
    "    \n",
    "    n_samples = 10000\n",
    "    samples = generator.sample(n_samples)\n",
    "\n",
    "    fig, axes = plt.subplots(1, 2, figsize=(6,3))\n",
    "    fig.tight_layout()\n",
    "\n",
    "    plot_phi_psi(axes[0], samples, system)\n",
    "    plot_energies(axes[1], samples, target_energy, test_data)\n",
    "\n",
    "    del samples"
   ]
  },
  {
   "cell_type": "markdown",
   "id": "baking-executive",
   "metadata": {},
   "source": [
    "### Mixed Training\n",
    "\n",
    "The next step is \"mixed\" training with a combination of NLL and KLL. To retain some of the progress made in the NLL phase, we decrease the learning rate and increase the batch size."
   ]
  },
  {
   "cell_type": "code",
   "execution_count": 28,
   "id": "living-oriental",
   "metadata": {},
   "outputs": [],
   "source": [
    "mixed_optimizer = torch.optim.Adam(generator.parameters(), lr=1e-4)\n",
    "mixed_trainer = bg.KLTrainer(\n",
    "    generator, \n",
    "    optim=mixed_optimizer,\n",
    "    train_energy=True\n",
    ")"
   ]
  },
  {
   "cell_type": "markdown",
   "id": "patient-spirituality",
   "metadata": {},
   "source": [
    "Mixed training will be considerably slower. \n",
    "To speed it up, you can change the settings for the OpenMM energy when creating the energy model. For example, consider not passing `n_workers=1`.\n",
    "\n",
    "To avoid large potential energy gradients from singularities, the components of the KL gradient are constrained to (-100, 100). "
   ]
  },
  {
   "cell_type": "code",
   "execution_count": 29,
   "id": "apart-limitation",
   "metadata": {},
   "outputs": [
    {
     "name": "stdout",
     "output_type": "stream",
     "text": [
      "1\tKLL: 173334512.0000\tNLL: -240.2753\t\n",
      "101\tKLL: 730521664.0000\tNLL: 499.0332\t\n",
      "201\tKLL: 39019642880.0000\tNLL: 864.7253\t\n",
      "301\tKLL: 135303536.0000\tNLL: 818.1963\t\n",
      "401\tKLL: 478408.3438\tNLL: 767.2994\t\n",
      "501\tKLL: 4271182970880.0000\tNLL: 799.4779\t\n",
      "601\tKLL: 78102249472.0000\tNLL: 974.7872\t\n",
      "701\tKLL: 151807888.0000\tNLL: 805.3764\t\n",
      "801\tKLL: 45090188.0000\tNLL: 723.0250\t\n",
      "901\tKLL: 1945493.3750\tNLL: 563.4889\t\n",
      "1001\tKLL: 8475979264.0000\tNLL: 371.6136\t\n",
      "1101\tKLL: 2000896384.0000\tNLL: 255.9729\t\n",
      "1201\tKLL: 13870062.0000\tNLL: 162.5048\t\n",
      "1301\tKLL: 24881518.0000\tNLL: 287.5608\t\n",
      "1401\tKLL: 29801740.0000\tNLL: 81.7110\t\n",
      "1501\tKLL: 12918129.0000\tNLL: -9.7236\t\n",
      "1601\tKLL: 1277813063680.0000\tNLL: -74.5028\t\n",
      "1701\tKLL: 14048993.0000\tNLL: -90.2738\t\n",
      "1801\tKLL: 9807907840.0000\tNLL: -103.0815\t\n",
      "1901\tKLL: 16413149.0000\tNLL: -110.2098\t\n"
     ]
    }
   ],
   "source": [
    "if main:\n",
    "    mixed_trainer.train(\n",
    "        n_iter=2000, \n",
    "        data=training_data,\n",
    "        batchsize=1000,\n",
    "        n_print=100, \n",
    "        w_energy=0.1,\n",
    "        w_likelihood=0.9,\n",
    "        clip_forces=20.0\n",
    "    )"
   ]
  },
  {
   "cell_type": "markdown",
   "id": "through-wiring",
   "metadata": {},
   "source": [
    "Plot the results:"
   ]
  },
  {
   "cell_type": "code",
   "execution_count": null,
   "id": "municipal-taste",
   "metadata": {},
   "outputs": [],
   "source": [
    "if main:\n",
    "    \n",
    "    n_samples = 10000\n",
    "    samples = generator.sample(n_samples)\n",
    "\n",
    "    fig, axes = plt.subplots(1, 2, figsize=(6,3))\n",
    "    fig.tight_layout()\n",
    "\n",
    "    plot_phi_psi(axes[0], samples, system)\n",
    "    plot_energies(axes[1], samples, target_energy, test_data)\n",
    "\n",
    "    del samples"
   ]
  },
  {
   "cell_type": "markdown",
   "id": "adjustable-redhead",
   "metadata": {},
   "source": [
    "With nglview installed, we can also take a look at the samples."
   ]
  },
  {
   "cell_type": "code",
   "execution_count": null,
   "id": "96a5abe9-e7e9-4673-9752-d4618bc59c0b",
   "metadata": {},
   "outputs": [],
   "source": [
    "try:\n",
    "    import nglview as nv\n",
    "    widget = nv.show_mdtraj(trajectory)\n",
    "except:\n",
    "    widget = None\n",
    "widget"
   ]
  },
  {
   "cell_type": "code",
   "execution_count": 44,
   "id": "39ae550b-86e7-488d-a53b-6126e2bf2a9b",
   "metadata": {},
   "outputs": [],
   "source": [
    "def transfer_traj(trajectory):\n",
    "    if not isinstance(trajectory, md.Trajectory):\n",
    "        trajectory = md.Trajectory(\n",
    "            xyz=trajectory.cpu().detach().numpy().reshape(-1, 22, 3), \n",
    "            topology=system.mdtraj_topology\n",
    "        )\n",
    "    return trajectory"
   ]
  },
  {
   "cell_type": "code",
   "execution_count": null,
   "id": "e2ff2019",
   "metadata": {},
   "outputs": [],
   "source": []
  },
  {
   "cell_type": "code",
   "execution_count": 47,
   "id": "c584d0c0-3d9f-4ac7-8882-adbe428881fe",
   "metadata": {},
   "outputs": [],
   "source": [
    "import nglview as nv\n",
    "traj  =transfer_traj(dataset.trajectory)\n",
    "widget = nv.show_mdtraj(traj)"
   ]
  },
  {
   "cell_type": "markdown",
   "id": "cardiac-triple",
   "metadata": {},
   "source": [
    "## Conclusions\n",
    "\n",
    "This tutorial has introduced the most basic concepts and implementations underlying Boltzmann generators and `bgflow`. That said, the trained networks did not do a particularly good job in reproducing the molecular Boltzmann distribution. Specifically, they only modeled the major modes of the $\\phi$ angle and still produced many samples with unreasonably large energies. Let's look at a few shortcomings of the present architecture:\n",
    "\n",
    "### 1) Unconstrained Internal Coordinates\n",
    "Bonds, angles, and torsions must not take arbitrary values in principle. Bond lengths need to be positive, angles live in $[0,\\pi],$ and torsions are periodic in $[-\\pi, \\pi].$ Neither those bounds nor the periodicity of torsions distributions have been taken into account by the present Boltzmann generator. The layers of the normalizing flow should be build in a way that preserves these constraints on the ICs.\n",
    "\n",
    "### 2)  Arbitrary Coupling\n",
    "The input for the coupling layers was split into two channels rather arbitrarily (first vs. second half). A partial remedy is to define the conditioning in a physically informed manner. Another solution is to augment the base space by momenta, which can be done with augmented normalizing flows (see for instance the notebook on temperature-steering flows).\n",
    "\n",
    "### 3) RealNVP Layers\n",
    "Affine coupling layers are well-known to perform poorly in separating modes. This explains that the metastable region around $\\phi \\approx \\pi/2$ was not captured by the generator. Other architectures such as augmented flows or neural spline flows do a better job for complicated, multimodal distributions.\n",
    "\n",
    "### 4) Training\n",
    "The generators were only trained for relatively few iterations and performance may improve with longer training and better choices of the learning rate and hyperparameters."
   ]
  }
 ],
 "metadata": {
  "kernelspec": {
   "display_name": "Python 3 (ipykernel)",
   "language": "python",
   "name": "python3"
  },
  "language_info": {
   "codemirror_mode": {
    "name": "ipython",
    "version": 3
   },
   "file_extension": ".py",
   "mimetype": "text/x-python",
   "name": "python",
   "nbconvert_exporter": "python",
   "pygments_lexer": "ipython3",
   "version": "3.9.19"
  }
 },
 "nbformat": 4,
 "nbformat_minor": 5
}
